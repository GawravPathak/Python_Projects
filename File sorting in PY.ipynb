{
 "cells": [
  {
   "cell_type": "code",
   "execution_count": 15,
   "id": "944d5d9b-0a9f-4d34-a9ac-ae88b81257cb",
   "metadata": {},
   "outputs": [],
   "source": [
    "# Automatic File Sorting in Python\n",
    "\n",
    "import os, shutil; #import os module shell utilities for creating, copying, renaming and moving operations in directories."
   ]
  },
  {
   "cell_type": "code",
   "execution_count": 16,
   "id": "90215b89-49be-43af-8be1-f220373f5bb9",
   "metadata": {},
   "outputs": [],
   "source": [
    "# specify the path where your unstructured files are.\n",
    "# using 'r' before the path will take it as a raw string literal and replace those slashes.\n",
    "\n",
    "path = r\"C:/Users/GAURAV/Downloads/\"  # replace those backward '\\' with forward '/'. or with '//'."
   ]
  },
  {
   "cell_type": "code",
   "execution_count": 17,
   "id": "b0220de2-f593-4949-8b47-e4ab952dd14e",
   "metadata": {},
   "outputs": [],
   "source": [
    "len(os.listdir(path)) # show the count of files in the directory.\n",
    "file_name = os.listdir(path)  # list every folder in that directory."
   ]
  },
  {
   "cell_type": "code",
   "execution_count": 18,
   "id": "a22d69e0-bf29-489d-a3e5-3d51797cfea2",
   "metadata": {},
   "outputs": [
    {
     "name": "stdout",
     "output_type": "stream",
     "text": [
      "Folder Exist: Application files\n",
      "Folder Exist: Word files\n",
      "Folder Exist: Excell files\n",
      "Folder Exist: PDF files\n"
     ]
    }
   ],
   "source": [
    "# Creating the foler according to the file type we have.\n",
    "\n",
    "folder_name = ['Application files','Word files', 'Excell files', 'PDF files'];\n",
    "\n",
    "for loop in range(0,4): # works by providing an extra range instead of 3 should be 4.\n",
    "    if not os.path.exists(path+folder_name[loop]): # if that folder does not exists then create it.\n",
    "        print(path+folder_name[loop]); # print here so we will get to know that this block is running.\n",
    "        os.makedirs(path+folder_name[loop]);  # create those folders in the directory.\n",
    "    else:\n",
    "        print('Folder Exist:',folder_name[loop]);"
   ]
  },
  {
   "cell_type": "code",
   "execution_count": 14,
   "id": "4dc05e30-35d5-4cd3-8178-a7810c0d64c9",
   "metadata": {},
   "outputs": [
    {
     "name": "stdout",
     "output_type": "stream",
     "text": [
      "Nothing to move.\n"
     ]
    }
   ],
   "source": [
    "# Moving the file into their respective folders.\n",
    "\n",
    "for file in file_name: # the path where all the files are.\n",
    "    full_path = os.path.join(path,file);  # it would be like that: \"C:/Users/GAURAV/Downloads/Gaurav.pdf\"\n",
    "    if os.path.isfile(full_path): # here we are checking is it a file or a directory.\n",
    "        if '.pdf' in file and not os.path.exists(os.path.join(path,\"PDF files/\",file)):# we are checking that file aready exist there or not.\n",
    "            shutil.move(full_path,os.path.join(path,\"PDF files/\",file)); # source, destination path\n",
    "            print('Pdf files moved');\n",
    "        elif '.xlsx' in file and not os.path.exists(os.path.join(path,\"Excell files/\",file)):\n",
    "            shutil.move(full_path,os.path.join(path,\"Excell files/\",file));\n",
    "            print('Excell file moved');\n",
    "        elif '.exe' in file and not os.path.exists(os.path.join(path,\"Application file/\",file)):\n",
    "            shutil.move(full_path,os.path.join(path,\"Application files/\",file));\n",
    "            print('Application moved');\n",
    "        elif '.docx' in file and not os.path.exists(os.path.join(path,\"Word files/\",file)):\n",
    "            shutil.move(full_path,os.path.join(path,\"Word files/\",file));\n",
    "            print('Word files moved');\n",
    "        else:\n",
    "            print('Nothing to move.');\n"
   ]
  },
  {
   "cell_type": "code",
   "execution_count": null,
   "id": "af00bffb-b818-4f3c-99ea-9213e5fe37b8",
   "metadata": {},
   "outputs": [],
   "source": []
  }
 ],
 "metadata": {
  "kernelspec": {
   "display_name": "Python 3 (ipykernel)",
   "language": "python",
   "name": "python3"
  },
  "language_info": {
   "codemirror_mode": {
    "name": "ipython",
    "version": 3
   },
   "file_extension": ".py",
   "mimetype": "text/x-python",
   "name": "python",
   "nbconvert_exporter": "python",
   "pygments_lexer": "ipython3",
   "version": "3.11.7"
  }
 },
 "nbformat": 4,
 "nbformat_minor": 5
}
